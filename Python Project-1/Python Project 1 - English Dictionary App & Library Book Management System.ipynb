{
 "cells": [
  {
   "cell_type": "markdown",
   "id": "b2039cb5",
   "metadata": {},
   "source": [
    "### Python Project 1 - English Dictionary App & Library Book Management System"
   ]
  },
  {
   "cell_type": "raw",
   "id": "d985bf5c",
   "metadata": {},
   "source": [
    "This project uses the skills learnt from week 1 to week 6. The aim of this project is to create an English Dictionary app that returns definitions of English words. When the application is started, it displays a menu as follows:\n",
    "\n",
    "Main Menu\n",
    "\n",
    "Add a new word\n",
    "Find the meaning\n",
    "Update a word\n",
    "Exit\n",
    "\n",
    "Enter Choice:\n",
    "\n",
    "If item 1 is selected, it should prompt for a word and then accept its meaning. This pair of word and its meaning should be stored in a file called ‘words.txt’. When item 2 is selected, it should prompt for a word, search that word in the file ‘words.txt’ and return the meaning if it is found. If the meaning is not found, it should display an appropriate message. Similarly, when choice 3 is entered, it should accept a word and update its meaning. In all the above three cases, the prompt should return to the main menu. The words and their meanings should be stored as a dictionary in words.txt, using the concept of serialization. If choice 4 is selected, a graceful exit should be performed.\n",
    " \n",
    "If you want to be recognized as a professional programmer, you have to practice more and develop applications in Python which you can include in your online portfolio. To achieve this, one such comprehensive project (with two small sub-projects inside it) is added which have to be completed by every student."
   ]
  },
  {
   "cell_type": "raw",
   "id": "e3a742dc",
   "metadata": {},
   "source": [
    "1A: English Dictionary App\n",
    "\n",
    "This project uses the skills learnt from week 1 to week 6. The aim of this project is to create an English Dictionary app that returns definitions of English words.\n"
   ]
  },
  {
   "cell_type": "markdown",
   "id": "41771b20",
   "metadata": {},
   "source": [
    "### 1A: English Dictionary App:->"
   ]
  },
  {
   "cell_type": "code",
   "execution_count": 1,
   "id": "1141d027",
   "metadata": {},
   "outputs": [],
   "source": [
    "#importing the json module for store dicitionary in json\n",
    "import json\n",
    "#creating the  python dicitionary\n",
    "words={}"
   ]
  },
  {
   "cell_type": "code",
   "execution_count": null,
   "id": "e1439fad",
   "metadata": {},
   "outputs": [
    {
     "name": "stdout",
     "output_type": "stream",
     "text": [
      "1:Add a new word\n",
      "2:Find the meaning\n",
      "3:Update a word\n",
      "4:Exit\n",
      "Enter the Choice:1\n",
      "Enter a Word:bottle\n",
      "Enter a Meanning of a bottle:to save the water\n",
      "1:Add a new word\n",
      "2:Find the meaning\n",
      "3:Update a word\n",
      "4:Exit\n",
      "Enter the Choice:2\n",
      "Enter a word to find the meaning in dicitionary: bottle\n",
      "Enter the y to display the word meaning which you searching for?\n",
      "enter the y->yes or n->no to display the meaning of a bottle:y\n",
      "bottle:to save the water\n",
      "1:Add a new word\n",
      "2:Find the meaning\n",
      "3:Update a word\n",
      "4:Exit\n",
      "Enter the Choice:3\n",
      "Enter word to find: bottle\n",
      "bottle is present in English Dicitionary App\n",
      "please add the word updated meaning to English Dicitionary App\n",
      "Enter meaning for the bottle : to store a water\n",
      "1:Add a new word\n",
      "2:Find the meaning\n",
      "3:Update a word\n",
      "4:Exit\n"
     ]
    }
   ],
   "source": [
    "#creating the  add new word and meaning function for adding a word and meaning in  dicitionary using English Dicitionary app\n",
    "def add_new_word():\n",
    "    word=input(\"Enter a Word:\")\n",
    "    meaning=input(f\"Enter a Meanning of a {word}:\")\n",
    "    file=open(\"words.txt\",'w')\n",
    "    words[word]=meaning\n",
    "    file.seek(0)\n",
    "    json.dump(words,file)\n",
    "    file.close()\n",
    "    \n",
    "#creating the finding  fucntion  to Finding the meaning of a specfic word in dicitionary using English Dicitionary app\n",
    "def find_meaning_of_word():\n",
    "    file=open('words.txt','r+')\n",
    "    words=json.load(file)\n",
    "    word_find= input('Enter a word to find the meaning in dicitionary: ')\n",
    "    if word_find in words:\n",
    "        print(\"Enter the y to display the word meaning which you searching for?\")\n",
    "        decide=input(f\"enter the y->yes or n->no to display the meaning of a {word_find}:\")\n",
    "        if decide==\"y\":\n",
    "            print(f\"{word_find}:{words[word_find]}\")\n",
    "    else:\n",
    "        print(\"Word is not found in the English Dicitionary App\")\n",
    "    file.seek(0)\n",
    "    file.close()\n",
    "    \n",
    "#creating the update fucntion to update the meaning of a specfic word in dicitionary,using English Dicitionary app   \n",
    "# if present it will update the existing value otherwise it will add a new word and meaning to the dicitionary  \n",
    "def update_the_word():\n",
    "    file=open('words.txt','r+')\n",
    "    word_find= input('Enter word to find: ')\n",
    "    if word_find in words:\n",
    "        print(f\"{word_find} is present in English Dicitionary App\")\n",
    "        print(\"please add the word updated meaning to English Dicitionary App\")\n",
    "        meaning = input(f'Enter meaning for the {word_find} : ')\n",
    "        words.update({word_find:meaning})\n",
    "#         words[word_find]=meaning\n",
    "    else:\n",
    "        print(f\"{word_find} is not present in English Dicitionary App\")\n",
    "        print(\"please add the word and meaning newly to English Dicitionary App\")\n",
    "        meaning = input(f'Enter meaning for the {word_find} : ')\n",
    "        words[word_find]=meaning\n",
    "    file.seek(0)\n",
    "#     file.truncate(0)\n",
    "    json.dump(words,file)\n",
    "    file.close()\n",
    "\n",
    "#creating the exit fucntion to exit from dicitionary from English Dicitionary app     \n",
    "def exit():\n",
    "    print(\"You are now exit from the Dicitionary App!\")\n",
    "    print(\"Thank you for Using the English Dicitionary App!!!!\")\n",
    "    print(\"Thank you,Bye!!!\")\n",
    "    \n",
    "#creating the mainu menu fucntion to execute the English Dicitionary app using choice with all function\n",
    "def main_menu():\n",
    "    while True:\n",
    "        print(\"1:Add a new word\\n2:Find the meaning\\n3:Update a word\\n4:Exit\")\n",
    "        choice=int(input(\"Enter the Choice:\"))\n",
    "        if choice==1:\n",
    "            add_new_word()\n",
    "        elif choice==2:\n",
    "            find_meaning_of_word()\n",
    "        elif choice==3:\n",
    "            update_the_word()\n",
    "        elif choice==4:\n",
    "            print(\"Dicitionary app get exiting\")\n",
    "            print(\"Thank you for using the Dicitionary app\")\n",
    "            exit()\n",
    "            break\n",
    "        else:\n",
    "            print(\"Invalid Input?\")\n",
    "            print(\"please!,Enter the Valid Input Choice here???\")\n",
    "\n",
    "#calling the main_menu() here            \n",
    "main_menu()"
   ]
  },
  {
   "cell_type": "code",
   "execution_count": 1,
   "id": "ac9d85ea",
   "metadata": {},
   "outputs": [],
   "source": [
    "import json\n",
    "words={}"
   ]
  },
  {
   "cell_type": "code",
   "execution_count": 2,
   "id": "c2d1516b",
   "metadata": {},
   "outputs": [],
   "source": [
    "def add_new_word():\n",
    "    word=input(\"Enter a Word:\")\n",
    "    meaning=input(f\"Enter a Meanning of a {word}:\")\n",
    "    file=open(\"words.txt\",'w')\n",
    "    words[word]=meaning\n",
    "    file.seek(0)\n",
    "    json.dump(words,file)\n",
    "    file.close()"
   ]
  },
  {
   "cell_type": "code",
   "execution_count": 3,
   "id": "3827dd12",
   "metadata": {},
   "outputs": [],
   "source": [
    "def find_meaning_of_word():\n",
    "    file=open('words.txt','r+')\n",
    "    words=json.load(file)\n",
    "    word_find= input('Enter a word to find the meaning in dicitionary: ')\n",
    "    if word_find in words:\n",
    "        \n",
    "        print(\"Enter the y to display the word meaning\")\n",
    "        decide=input(f\"enter the y->yes or n->no to display the meaning of a {word_find}:\")\n",
    "        if decide==\"y\":\n",
    "            print(f\"{word_find}:{words[word_find]}\")\n",
    "    else:\n",
    "        return \"Word  is  not found in the  English Dicitionary App\"\n",
    "    file.seek(0)"
   ]
  },
  {
   "cell_type": "code",
   "execution_count": 12,
   "id": "e67494ad",
   "metadata": {},
   "outputs": [
    {
     "name": "stdout",
     "output_type": "stream",
     "text": [
      "Enter a word to find the meaning in dicitionary: Apple\n",
      "Enter the y to display the word meaning\n",
      "enter the y->yes or n->no to display the meaning of a Apple:n\n"
     ]
    }
   ],
   "source": [
    "find_meaning_of_word()"
   ]
  },
  {
   "cell_type": "code",
   "execution_count": 6,
   "id": "7681d13f",
   "metadata": {},
   "outputs": [],
   "source": [
    "def update_the_word():\n",
    "    file=open('words.txt','r+')\n",
    "    word_find= input('Enter word to find: ')\n",
    "    if word_find in words:\n",
    "        print(f\"{word_find} is present in English Dicitionary App\")\n",
    "        print(\"please add the word meaning newly to English Dicitionary App\")\n",
    "        meaning = input(f'Enter meaning for the {word_find} : ')\n",
    "        words.update({word_find:meaning})\n",
    "#         words[word_find]=meaning\n",
    "        file.seek(0)\n",
    "        file.truncate(0)\n",
    "        json.dump(words,file)\n",
    "    else:\n",
    "        print(f\"{word_find} is not present in English Dicitionary App\")\n",
    "        print(\"please add the word and meaning newly to English Dicitionary App\")\n",
    "        meaning = input(f'Enter meaning for the {word_find} : ')\n",
    "        words[word_find]=meaning\n",
    "        file.seek(0)\n",
    "        file.truncate(0)\n",
    "        json.dump(words,file)"
   ]
  },
  {
   "cell_type": "code",
   "execution_count": 9,
   "id": "25d59819",
   "metadata": {},
   "outputs": [
    {
     "name": "stdout",
     "output_type": "stream",
     "text": [
      "Enter word to find: Grape\n",
      "Grape is present in English Dicitionary App\n",
      "please add the word meaning newly to English Dicitionary App\n",
      "Enter meaning for the Grape : small eating fruit\n"
     ]
    }
   ],
   "source": [
    "update_the_word()"
   ]
  },
  {
   "cell_type": "code",
   "execution_count": 1,
   "id": "e0506059",
   "metadata": {},
   "outputs": [],
   "source": [
    "def exit():\n",
    "    print(\"You are now exit from the Dicitionary App!\")\n",
    "    print(\"Thank you for Using the English Dicitionary App!!!!\")\n",
    "    return \"Thank you,Bye!!!\""
   ]
  },
  {
   "cell_type": "code",
   "execution_count": 2,
   "id": "ef079c05",
   "metadata": {},
   "outputs": [
    {
     "name": "stdout",
     "output_type": "stream",
     "text": [
      "You are now exit from tha Dicitionary App!\n",
      "Thank you for Using the English Dicitionary App!!!!\n"
     ]
    },
    {
     "data": {
      "text/plain": [
       "'Thank you,Bye!!!'"
      ]
     },
     "execution_count": 2,
     "metadata": {},
     "output_type": "execute_result"
    }
   ],
   "source": [
    "exit()"
   ]
  },
  {
   "cell_type": "code",
   "execution_count": 10,
   "id": "d1637632",
   "metadata": {},
   "outputs": [],
   "source": [
    "def main_menu():\n",
    "    while True:\n",
    "        print(\"1:Add a new word\\n2:Find the meaning\\n3:Update a word\\n4:Exit\")\n",
    "        choice=int(input(\"Enter the Choice:\"))\n",
    "        if choice==1:\n",
    "            add_new_word()\n",
    "        elif choice==2:\n",
    "            find_meaning_of_word()\n",
    "        elif choice==3:\n",
    "            update_the_word()\n",
    "        elif choice==4:\n",
    "            print(\"Dicitionary app get exiting\")\n",
    "            print(\"Thank you for using the Dicitionary app\")\n",
    "            exit()\n",
    "            break\n",
    "        else:\n",
    "            print(\"Invalid Input?\")"
   ]
  },
  {
   "cell_type": "code",
   "execution_count": 12,
   "id": "917e5271",
   "metadata": {},
   "outputs": [],
   "source": [
    "# add_new_word()"
   ]
  },
  {
   "cell_type": "code",
   "execution_count": 11,
   "id": "8e6c448e",
   "metadata": {},
   "outputs": [
    {
     "name": "stdout",
     "output_type": "stream",
     "text": [
      "1:Add a new word\n",
      "2:Find the meaning\n",
      "3:Update a word\n",
      "4:Exit\n",
      "Enter the Choice:1\n",
      "Enter a Word:SkillLync\n",
      "Enter a Meanning of a SkillLync:Training Institute\n",
      "1:Add a new word\n",
      "2:Find the meaning\n",
      "3:Update a word\n",
      "4:Exit\n",
      "Enter the Choice:2\n",
      "Enter a word to find the meaning in dicitionary: SkillLync\n",
      "Enter the y to display the word meaning\n",
      "enter the y->yes or n->no to display the meaning of a SkillLync:y\n",
      "SkillLync:Training Institute\n",
      "1:Add a new word\n",
      "2:Find the meaning\n",
      "3:Update a word\n",
      "4:Exit\n",
      "Enter the Choice:3\n",
      "Enter word to find: SkillLync\n",
      "SkillLync is present in English Dicitionary App\n",
      "please add the word meaning newly to English Dicitionary App\n",
      "Enter meaning for the SkillLync : DADS Training Institute\n",
      "1:Add a new word\n",
      "2:Find the meaning\n",
      "3:Update a word\n",
      "4:Exit\n",
      "Enter the Choice:2\n",
      "Enter a word to find the meaning in dicitionary: SkillLync\n",
      "Enter the y to display the word meaning\n",
      "enter the y->yes or n->no to display the meaning of a SkillLync:y\n",
      "SkillLync:DADS Training Institute\n",
      "1:Add a new word\n",
      "2:Find the meaning\n",
      "3:Update a word\n",
      "4:Exit\n",
      "Enter the Choice:5\n",
      "Invalid Input?\n",
      "1:Add a new word\n",
      "2:Find the meaning\n",
      "3:Update a word\n",
      "4:Exit\n",
      "Enter the Choice:4\n",
      "Dicitionary app get exiting\n",
      "Thank you for using the Dicitionary app\n"
     ]
    }
   ],
   "source": [
    "main_menu()"
   ]
  },
  {
   "cell_type": "code",
   "execution_count": null,
   "id": "8d3163a4",
   "metadata": {},
   "outputs": [],
   "source": []
  },
  {
   "cell_type": "raw",
   "id": "c3251ac2",
   "metadata": {},
   "source": [
    "1B: Library Book Management System\n",
    "\n",
    "In this project, a Library Book Management System will be implemented with the front end GUI developed using Tkinter and the backend database implemented in SQLite. It is a single window tkinter GUI application which will implement CRUD( create, read, update, delete) operations on a ‘books’ database, in SQLite. The window will contain text widgets to accept / display book title, author, year of publication, ISBN (optional) and a large text area/ list box to display the records which match the search criteria."
   ]
  },
  {
   "cell_type": "markdown",
   "id": "0391f736",
   "metadata": {},
   "source": [
    "### 1B: Library Book Management System"
   ]
  },
  {
   "cell_type": "code",
   "execution_count": 11,
   "id": "7455ed9f",
   "metadata": {},
   "outputs": [],
   "source": [
    "def database():\n",
    "    # Connecting to Database\n",
    "    connector = sql.connect('Books.db')\n",
    "    cursor = connector.cursor()\n",
    "    connector.execute('CREATE TABLE IF NOT EXISTS LibraryBooks(BK_ID VARCHAR PRIMARY KEY NOT NULL,BOOKTITLE TEXT, AUTHOR TEXT,YEAR TEXT, ISBN TEXT)')"
   ]
  },
  {
   "cell_type": "code",
   "execution_count": null,
   "id": "e36d67ab",
   "metadata": {},
   "outputs": [],
   "source": [
    "from tkinter import *\n",
    "# import sqlite3\n",
    "import tkinter.ttk as ttk\n",
    "import tkinter.messagebox as tkMessageBox\n",
    "import sqlite3 as sql\n",
    "\n",
    "def Database():\n",
    "    # Connecting to Database\n",
    "    global cursor,conn\n",
    "    conn= sql.connect('Books.db')\n",
    "    cursor = conn.cursor()\n",
    "    conn.execute('CREATE TABLE IF NOT EXISTS LibraryBooks(id INTEGER PRIMARY KEY AUTOINCREMENT NOT NULL,BOOKTITLE TEXT,AUTHOR TEXT,YEAR TEXT,ISBN TEXT)')\n",
    "\n",
    "def Create():\n",
    "    if BOOKTITLE.get()==\"\" or AUTHOR.get()==\"\" or YEAR.get()==\"\":\n",
    "        txt_result.config(text=\"Please enter all the fields\",fg=\"red\")\n",
    "    else:\n",
    "        Database()\n",
    "        cursor.execute(\"INSERT INTO LibraryBooks(BOOKTITLE,AUTHOR,YEAR,ISBN) VALUES(?,?,?,?)\",(str(BOOKTITLE.get()),str(AUTHOR.get()),str(YEAR.get()),str(ISBN.get())))\n",
    "        conn.commit()\n",
    "        BOOKTITLE.set(\"\")\n",
    "        AUTHOR.set(\"\")\n",
    "        YEAR.set(\"\")\n",
    "        ISBN.set(\"\")\n",
    "        cursor.close()\n",
    "        conn.close()\n",
    "        txt_result.config(text=\"Record Inserted!\",fg=\"green\")\n",
    "    \n",
    "def Read():\n",
    "    #tree is a  data stucture which works on data hirearchical like files,directories\n",
    "    tree.delete(*tree.get_children())\n",
    "    Database()\n",
    "    cursor.execute(\"SELECT * FROM LibraryBooks\")\n",
    "    fetch=cursor.fetchall()\n",
    "    for data in fetch:\n",
    "        tree.insert('','end',values=(data[0],data[1],data[2],data[3]))\n",
    "    cursor.close()\n",
    "    txt_result.config(text=\"Successfully fetch!\",fg=\"black\")\n",
    "    \n",
    "def Search():\n",
    "    Database()\n",
    "    cursor.execute(\"SELECT * FROM LibraryBooks where BOOKTITLE=? or AUTHOR=? or YEAR=? OR ISBN=?\",(str(BOOKTITLE.get()),str(AUTHOR.get()),str(YEAR.get()),str(ISBN.get())))\n",
    "    fetch=cursor.fetchall()\n",
    "    for data in fetch:\n",
    "        tree.insert('','end',values=(data[0],data[1],data[2],data[3]))\n",
    "    cursor.close()\n",
    "    txt_result.config(text=\"Searched Data Fetched!\",fg=\"Black\")\n",
    "    \n",
    "def Delete():\n",
    "    Database()\n",
    "    decide = tkMessageBox.askquestion(\"Do you Really want delete all records? (Y/N)\", icon = \"warning\")\n",
    "    if decide==\"yes\":\n",
    "        cursor.execute(\"DELETE FROM LibraryBooks\")\n",
    "        txt_result.config(text=\"Deleted all the records!\",fg=\"Black\")\n",
    "        fetch=cursor.fetchall()\n",
    "        for data in fetch:\n",
    "            tree.insert('','end',values=(data[0],data[1],data[2],data[3]))\n",
    "    else:\n",
    "        cursor.execute(\"DELETE FROM LibraryBooks where BOOKTITLE=? or AUTHOR=? or YEAR=? OR ISBN=?\",(str(BOOKTITLE.get()),str(AUTHOR.get()),str(YEAR.get()),str(ISBN.get())))\n",
    "        txt_result.config(text=\"Deleted only one record!\",fg=\"Black\")\n",
    "    conn.commit()\n",
    "    cursor.close()\n",
    "    \n",
    "def Issue():\n",
    "    Database()\n",
    "    txt_result.config(text=\"Issued Book,Thank you Taking the Book from LBMS,You have 1 week to retrun the book to the LBMS\",fg=\"Red\")\n",
    "                                                                                                       \n",
    "def Exit():\n",
    "    result=tkMessageBox.askquestion(\"Do you want to exit? (y/n) from Library Management System Application\",icon=\"warning\")\n",
    "    if result=='yes':\n",
    "        root.destroy()\n",
    "        exit()\n",
    "    \n",
    "    \n",
    "#creating the object of Tkinter\n",
    "root=Tk()\n",
    "#creating a title for the Tkinter window\n",
    "root.title(\"(LBMS)A Library Application\")\n",
    "#dimension of width and height of a window\n",
    "root.geometry(\"1000x600\")\n",
    "# #frame1\n",
    "# #creating the frame,to display the below text in the frame  with pack side=TOP \n",
    "# title_center=Frame(root,width=600,height=50,bd=8,bg=\"blue\",relief=\"raise\")\n",
    "# title_center.pack(side=TOP)\n",
    "# #creating the text for display in the frame \n",
    "# title_label=Label(title_center,text=\"......Library Management Application.....\",width=150,font=36)\n",
    "# title_label.pack()\n",
    "\n",
    "# #frame2:\n",
    "# #creating the frame,to display the below text in the frame  with pack side=TOP \n",
    "# frame_addition=Frame(root,width=300,height=300,bd=8,bg=\"RED\",relief=\"raise\")\n",
    "# frame_addition.pack(side=LEFT)\n",
    "\n",
    "# #frame3:\n",
    "# #creating the frame,to display the below text in the frame  with pack side=TOP \n",
    "# frame_addition=Frame(root,width=300,height=300,bd=8,bg=\"YELLOW\",relief=\"raise\")\n",
    "# frame_addition.pack(side=RIGHT)\n",
    "\n",
    "\n",
    "#Variable Declaration for Library Field \n",
    "BOOKTITLE=StringVar()\n",
    "AUTHOR=StringVar()\n",
    "YEAR=StringVar()\n",
    "ISBN=StringVar()\n",
    "\n",
    "##Frames for LBMS\n",
    "#frame 1->for Title\n",
    "title_frame_top=Frame(root,width=100,height=50,bd=8,bg=\"blue\",relief=\"raise\") #relief=\"raise\"\n",
    "title_frame_top.pack(side=TOP)\n",
    "#frame 2->for book details\n",
    "frame_left=Frame(root,width=300,height=300,bd=8,relief=\"raise\",bg=\"red\") #relief=\"raise\"\n",
    "frame_left.pack(side=LEFT)\n",
    "#frame 3->to Display the book details\n",
    "frame_right=Frame(root,width=200,height=300,bd=8,relief=\"raise\",bg=\"Yellow\") #relief=\"raise\"\n",
    "frame_right.pack(side=RIGHT)\n",
    "#frame 4->Forms\n",
    "frame_forms=Frame(frame_left,width=200,height=250)\n",
    "frame_forms.pack(side=TOP)\n",
    "#frame 5->frame for buttons\n",
    "frame_buttons=Frame(frame_left,width=100,height=150,relief=\"raise\")\n",
    "frame_buttons.pack(side=BOTTOM)\n",
    "\n",
    "\n",
    "##LABELS:\n",
    "#label1:->for the title Display\n",
    "label_title=Label(title_frame_top,text=\"......Library Management Application.....\",width=100,font=('arial',22))\n",
    "label_title.pack()\n",
    "#label2:->for the BOOKTITLE Display\n",
    "label_booktitle=Label(frame_forms,text=\"BOOKTITLE\",font=('arial',16),bd=15)\n",
    "label_booktitle.grid(row=0,stick='e')\n",
    "#label3:->for the AUTHOR Display\n",
    "label_author=Label(frame_forms,text=\"AUTHOR\",font=('arial',16),bd=15)\n",
    "label_author.grid(row=1,stick='e')\n",
    "#label4:->for the YEAR Display\n",
    "label_year=Label(frame_forms,text=\"YEAR\",font=('arial',16),bd=15)\n",
    "label_year.grid(row=2,stick='e')\n",
    "#label5:->for the ISBN Display\n",
    "label_isbn=Label(frame_forms,text=\"ISBN\",font=('arial',16),bd=15)\n",
    "label_isbn.grid(row=3,stick='e')\n",
    "\n",
    "#label6:->for the button Display\n",
    "txt_result=Label(frame_buttons)\n",
    "txt_result.pack()\n",
    "\n",
    "##===================================ENTRY WIDGETS=============================================================\n",
    "#ENTRY for BOOKTITLE\n",
    "booktitle_entry=Entry(frame_forms,textvariable=BOOKTITLE,width=30)\n",
    "booktitle_entry.grid(row=0,column=1)\n",
    "#ENTRY for AUTHOR\n",
    "author_entry=Entry(frame_forms,textvariable=AUTHOR,width=30)\n",
    "author_entry.grid(row=1,column=1)\n",
    "#ENTRY for YEAR\n",
    "year_entry=Entry(frame_forms,textvariable=YEAR,width=30)\n",
    "year_entry.grid(row=2,column=1)\n",
    "#ENTRY for ISBN\n",
    "isbn_entry=Entry(frame_forms,textvariable=ISBN,width=30)\n",
    "isbn_entry.grid(row=3,column=1)\n",
    "\n",
    "#=====================================BUTTON WIDGE===============================================================\n",
    "#BUTTON FOR READ/display\n",
    "btn_display=Button(frame_buttons,width=10,text='Display',command=Read)\n",
    "btn_display.pack(side=LEFT)\n",
    "#BUTTON FOR CREATE\n",
    "btn_create=Button(frame_buttons,width=10,text='Add',command=Create)\n",
    "btn_create.pack(side=LEFT)\n",
    "#BUTTON FOR Search\n",
    "btn_update=Button(frame_buttons,width=10,text='Search',command=Search)\n",
    "btn_update.pack(side=LEFT)\n",
    "#BUTTON FOR issued\n",
    "btn_display=Button(frame_buttons,width=10,text='Issue',command=Issue)\n",
    "btn_display.pack(side=LEFT)\n",
    "#BUTTON FOR DELETE\n",
    "btn_delete=Button(frame_buttons,width=10,text='Delete',command=Delete)\n",
    "btn_delete.pack(side=LEFT)\n",
    "#BUTTON FOR EXIT\n",
    "btn_exit=Button(frame_buttons,width=10,text='Exit',command=Exit)\n",
    "btn_exit.pack(side=LEFT)\n",
    "\n",
    "##Scrollbar in right frame\n",
    "#LIST\n",
    "scrollbary = Scrollbar(frame_right,orient=VERTICAL)\n",
    "scrollbarx = Scrollbar(frame_right,orient=HORIZONTAL)\n",
    "\n",
    "#tree\n",
    "tree = ttk.Treeview(frame_right,columns=(\"booktitle_entry\",\"author_entry\",\"year_entry\",\"isbn_entry\"))\n",
    "\n",
    "scrollbary.config(command=tree.yview)\n",
    "scrollbary.pack(side=RIGHT,fill=Y)\n",
    "\n",
    "scrollbarx.config(command=tree.xview)\n",
    "scrollbarx.pack(side=BOTTOM,fill=X)\n",
    "\n",
    "tree.heading('booktitle_entry',text=\"BOOKTITLE\",anchor=W)\n",
    "tree.heading('author_entry',text=\"AUTHOR\",anchor=W)\n",
    "tree.heading('year_entry',text=\"YEAR\",anchor=W)\n",
    "tree.heading('isbn_entry',text=\"ISBN\",anchor=W)\n",
    "\n",
    "tree.column(\"#0\",stretch=NO,minwidth=0,width=0) \n",
    "tree.column(\"#1\",stretch=NO,minwidth=0,width=80)\n",
    "tree.column(\"#2\",stretch=NO,minwidth=0,width=80)\n",
    "tree.column(\"#3\",stretch=NO,minwidth=0,width=50)\n",
    "\n",
    "tree.pack()\n",
    "\n",
    "\n",
    "\n",
    "# initialisation\n",
    "root.mainloop()\n"
   ]
  },
  {
   "cell_type": "raw",
   "id": "661a888a",
   "metadata": {},
   "source": [
    "help(tree.heading)"
   ]
  },
  {
   "cell_type": "code",
   "execution_count": 3,
   "id": "7ace260a",
   "metadata": {},
   "outputs": [
    {
     "name": "stdout",
     "output_type": "stream",
     "text": [
      "[[1 2 3 4 5]]\n"
     ]
    }
   ],
   "source": [
    "import numpy as np\n",
    "\n",
    "a = np.array([1, 2, 3,4,5], ndmin = 2)\n",
    "\n",
    "print(a)"
   ]
  },
  {
   "cell_type": "code",
   "execution_count": 4,
   "id": "b557ca80",
   "metadata": {},
   "outputs": [
    {
     "name": "stdout",
     "output_type": "stream",
     "text": [
      "1\n"
     ]
    }
   ],
   "source": [
    "import pandas as pd\n",
    "\n",
    "import numpy as np\n",
    "\n",
    "s = pd.Series(np.random.randn(4))\n",
    "\n",
    "print(s.ndim)"
   ]
  },
  {
   "cell_type": "code",
   "execution_count": null,
   "id": "46c2385c",
   "metadata": {},
   "outputs": [],
   "source": []
  }
 ],
 "metadata": {
  "kernelspec": {
   "display_name": "Python 3 (ipykernel)",
   "language": "python",
   "name": "python3"
  },
  "language_info": {
   "codemirror_mode": {
    "name": "ipython",
    "version": 3
   },
   "file_extension": ".py",
   "mimetype": "text/x-python",
   "name": "python",
   "nbconvert_exporter": "python",
   "pygments_lexer": "ipython3",
   "version": "3.11.5"
  }
 },
 "nbformat": 4,
 "nbformat_minor": 5
}
