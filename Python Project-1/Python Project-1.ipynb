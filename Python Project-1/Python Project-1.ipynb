{
 "cells": [
  {
   "cell_type": "markdown",
   "id": "111134c8",
   "metadata": {},
   "source": [
    "# Project 1 - English Dictionary App & Library Book Management"
   ]
  },
  {
   "cell_type": "raw",
   "id": "4e3f27e9",
   "metadata": {},
   "source": [
    "This project uses the skills learnt from week 1 to week 6. The aim of this project is to create an English Dictionary app that returns definitions of English words. When the application is started, it displays a menu as follows:\n",
    "\n",
    "Main Menu\n",
    "\n",
    "Add a new word\n",
    "Find the meaning\n",
    "Update a word\n",
    "Exit\n",
    "\n",
    "Enter Choice:\n",
    "\n",
    "If item 1 is selected, it should prompt for a word and then accept its meaning. This pair of word and its meaning should be stored in a file called ‘words.txt’. When item 2 is selected, it should prompt for a word, search that word in the file ‘words.txt’ and return the meaning if it is found. If the meaning is not found, it should display an appropriate message. Similarly, when choice 3 is entered, it should accept a word and update its meaning. In all the above three cases, the prompt should return to the main menu. The words and their meanings should be stored as a dictionary in words.txt, using the concept of serialization. If choice 4 is selected, a graceful exit should be performed.\n",
    " \n",
    "If you want to be recognized as a professional programmer, you have to practice more and develop applications in Python which you can include in your online portfolio. To achieve this, one such comprehensive project (with two small sub-projects inside it) is added which have to be completed by every student."
   ]
  },
  {
   "cell_type": "raw",
   "id": "81fc88f0",
   "metadata": {},
   "source": [
    "1A: English Dictionary App\n",
    "\n",
    "This project uses the skills learnt from week 1 to week 6. The aim of this project is to create an English Dictionary app that returns definitions of English words.\n",
    "\n"
   ]
  },
  {
   "cell_type": "markdown",
   "id": "b6257f34",
   "metadata": {},
   "source": [
    "# 1A: English Dictionary App:"
   ]
  },
  {
   "cell_type": "code",
   "execution_count": 1,
   "id": "e6ad0d53",
   "metadata": {},
   "outputs": [],
   "source": [
    "import os\n",
    "import json"
   ]
  },
  {
   "cell_type": "code",
   "execution_count": null,
   "id": "faeafa12",
   "metadata": {
    "scrolled": true
   },
   "outputs": [
    {
     "name": "stdout",
     "output_type": "stream",
     "text": [
      "MAIN MENU\n",
      "1:Add a new word\n",
      "2:Find the meaning\n",
      "3:Update a word\n",
      "4:Exit\n"
     ]
    }
   ],
   "source": [
    "print(\"MAIN MENU\")\n",
    "print(\"1:Add a new word\\n2:Find the meaning\\n3:Update a word\\n4:Exit\")\n",
    "choice=int(input(\"Enter the Choice:\"))\n",
    "if choice==1:\n",
    "    add_new_word()\n",
    "elif choice==2:\n",
    "    find_meaning_of_word()\n",
    "elif choice==3:\n",
    "    update_the_word()\n",
    "elif choice==4:\n",
    "    os.exit()\n",
    "else:\n",
    "    print(\"Invalid Input?\")\n",
    "    os.exit\n",
    "    "
   ]
  },
  {
   "cell_type": "code",
   "execution_count": 3,
   "id": "535f635c",
   "metadata": {},
   "outputs": [],
   "source": [
    "def add_new_word():\n",
    "    word=input(\"Enter a Word:\")\n",
    "    meaning=input(\"Enter a Meanning of a word:\")\n",
    "    file=open(\"words.txt\",'r+')\n",
    "    words=json.load(file)\n",
    "    words[word]=meaning\n",
    "    f.seek(0)\n",
    "    json.dump(words,f,intent=4)"
   ]
  },
  {
   "cell_type": "code",
   "execution_count": 16,
   "id": "8e46342a",
   "metadata": {},
   "outputs": [
    {
     "name": "stdout",
     "output_type": "stream",
     "text": [
      "Enter a Word:Apple\n",
      "Enter a Meanning of a word:A fruit\n"
     ]
    },
    {
     "ename": "JSONDecodeError",
     "evalue": "Expecting value: line 1 column 1 (char 0)",
     "output_type": "error",
     "traceback": [
      "\u001b[1;31m---------------------------------------------------------------------------\u001b[0m",
      "\u001b[1;31mJSONDecodeError\u001b[0m                           Traceback (most recent call last)",
      "Cell \u001b[1;32mIn[16], line 1\u001b[0m\n\u001b[1;32m----> 1\u001b[0m add_new_word()\n",
      "Cell \u001b[1;32mIn[15], line 5\u001b[0m, in \u001b[0;36madd_new_word\u001b[1;34m()\u001b[0m\n\u001b[0;32m      3\u001b[0m meaning\u001b[38;5;241m=\u001b[39m\u001b[38;5;28minput\u001b[39m(\u001b[38;5;124m\"\u001b[39m\u001b[38;5;124mEnter a Meanning of a word:\u001b[39m\u001b[38;5;124m\"\u001b[39m)\n\u001b[0;32m      4\u001b[0m file\u001b[38;5;241m=\u001b[39m\u001b[38;5;28mopen\u001b[39m(\u001b[38;5;124m\"\u001b[39m\u001b[38;5;124mwords.txt\u001b[39m\u001b[38;5;124m\"\u001b[39m,\u001b[38;5;124m'\u001b[39m\u001b[38;5;124mr+\u001b[39m\u001b[38;5;124m'\u001b[39m)\n\u001b[1;32m----> 5\u001b[0m words\u001b[38;5;241m=\u001b[39mjson\u001b[38;5;241m.\u001b[39mload(file)\n\u001b[0;32m      6\u001b[0m words[word]\u001b[38;5;241m=\u001b[39mmeaning\n\u001b[0;32m      7\u001b[0m f\u001b[38;5;241m.\u001b[39mseek(\u001b[38;5;241m0\u001b[39m)\n",
      "File \u001b[1;32m~\\anaconda3\\Lib\\json\\__init__.py:293\u001b[0m, in \u001b[0;36mload\u001b[1;34m(fp, cls, object_hook, parse_float, parse_int, parse_constant, object_pairs_hook, **kw)\u001b[0m\n\u001b[0;32m    274\u001b[0m \u001b[38;5;28;01mdef\u001b[39;00m \u001b[38;5;21mload\u001b[39m(fp, \u001b[38;5;241m*\u001b[39m, \u001b[38;5;28mcls\u001b[39m\u001b[38;5;241m=\u001b[39m\u001b[38;5;28;01mNone\u001b[39;00m, object_hook\u001b[38;5;241m=\u001b[39m\u001b[38;5;28;01mNone\u001b[39;00m, parse_float\u001b[38;5;241m=\u001b[39m\u001b[38;5;28;01mNone\u001b[39;00m,\n\u001b[0;32m    275\u001b[0m         parse_int\u001b[38;5;241m=\u001b[39m\u001b[38;5;28;01mNone\u001b[39;00m, parse_constant\u001b[38;5;241m=\u001b[39m\u001b[38;5;28;01mNone\u001b[39;00m, object_pairs_hook\u001b[38;5;241m=\u001b[39m\u001b[38;5;28;01mNone\u001b[39;00m, \u001b[38;5;241m*\u001b[39m\u001b[38;5;241m*\u001b[39mkw):\n\u001b[0;32m    276\u001b[0m \u001b[38;5;250m    \u001b[39m\u001b[38;5;124;03m\"\"\"Deserialize ``fp`` (a ``.read()``-supporting file-like object containing\u001b[39;00m\n\u001b[0;32m    277\u001b[0m \u001b[38;5;124;03m    a JSON document) to a Python object.\u001b[39;00m\n\u001b[0;32m    278\u001b[0m \n\u001b[1;32m   (...)\u001b[0m\n\u001b[0;32m    291\u001b[0m \u001b[38;5;124;03m    kwarg; otherwise ``JSONDecoder`` is used.\u001b[39;00m\n\u001b[0;32m    292\u001b[0m \u001b[38;5;124;03m    \"\"\"\u001b[39;00m\n\u001b[1;32m--> 293\u001b[0m     \u001b[38;5;28;01mreturn\u001b[39;00m loads(fp\u001b[38;5;241m.\u001b[39mread(),\n\u001b[0;32m    294\u001b[0m         \u001b[38;5;28mcls\u001b[39m\u001b[38;5;241m=\u001b[39m\u001b[38;5;28mcls\u001b[39m, object_hook\u001b[38;5;241m=\u001b[39mobject_hook,\n\u001b[0;32m    295\u001b[0m         parse_float\u001b[38;5;241m=\u001b[39mparse_float, parse_int\u001b[38;5;241m=\u001b[39mparse_int,\n\u001b[0;32m    296\u001b[0m         parse_constant\u001b[38;5;241m=\u001b[39mparse_constant, object_pairs_hook\u001b[38;5;241m=\u001b[39mobject_pairs_hook, \u001b[38;5;241m*\u001b[39m\u001b[38;5;241m*\u001b[39mkw)\n",
      "File \u001b[1;32m~\\anaconda3\\Lib\\json\\__init__.py:346\u001b[0m, in \u001b[0;36mloads\u001b[1;34m(s, cls, object_hook, parse_float, parse_int, parse_constant, object_pairs_hook, **kw)\u001b[0m\n\u001b[0;32m    341\u001b[0m     s \u001b[38;5;241m=\u001b[39m s\u001b[38;5;241m.\u001b[39mdecode(detect_encoding(s), \u001b[38;5;124m'\u001b[39m\u001b[38;5;124msurrogatepass\u001b[39m\u001b[38;5;124m'\u001b[39m)\n\u001b[0;32m    343\u001b[0m \u001b[38;5;28;01mif\u001b[39;00m (\u001b[38;5;28mcls\u001b[39m \u001b[38;5;129;01mis\u001b[39;00m \u001b[38;5;28;01mNone\u001b[39;00m \u001b[38;5;129;01mand\u001b[39;00m object_hook \u001b[38;5;129;01mis\u001b[39;00m \u001b[38;5;28;01mNone\u001b[39;00m \u001b[38;5;129;01mand\u001b[39;00m\n\u001b[0;32m    344\u001b[0m         parse_int \u001b[38;5;129;01mis\u001b[39;00m \u001b[38;5;28;01mNone\u001b[39;00m \u001b[38;5;129;01mand\u001b[39;00m parse_float \u001b[38;5;129;01mis\u001b[39;00m \u001b[38;5;28;01mNone\u001b[39;00m \u001b[38;5;129;01mand\u001b[39;00m\n\u001b[0;32m    345\u001b[0m         parse_constant \u001b[38;5;129;01mis\u001b[39;00m \u001b[38;5;28;01mNone\u001b[39;00m \u001b[38;5;129;01mand\u001b[39;00m object_pairs_hook \u001b[38;5;129;01mis\u001b[39;00m \u001b[38;5;28;01mNone\u001b[39;00m \u001b[38;5;129;01mand\u001b[39;00m \u001b[38;5;129;01mnot\u001b[39;00m kw):\n\u001b[1;32m--> 346\u001b[0m     \u001b[38;5;28;01mreturn\u001b[39;00m _default_decoder\u001b[38;5;241m.\u001b[39mdecode(s)\n\u001b[0;32m    347\u001b[0m \u001b[38;5;28;01mif\u001b[39;00m \u001b[38;5;28mcls\u001b[39m \u001b[38;5;129;01mis\u001b[39;00m \u001b[38;5;28;01mNone\u001b[39;00m:\n\u001b[0;32m    348\u001b[0m     \u001b[38;5;28mcls\u001b[39m \u001b[38;5;241m=\u001b[39m JSONDecoder\n",
      "File \u001b[1;32m~\\anaconda3\\Lib\\json\\decoder.py:337\u001b[0m, in \u001b[0;36mJSONDecoder.decode\u001b[1;34m(self, s, _w)\u001b[0m\n\u001b[0;32m    332\u001b[0m \u001b[38;5;28;01mdef\u001b[39;00m \u001b[38;5;21mdecode\u001b[39m(\u001b[38;5;28mself\u001b[39m, s, _w\u001b[38;5;241m=\u001b[39mWHITESPACE\u001b[38;5;241m.\u001b[39mmatch):\n\u001b[0;32m    333\u001b[0m \u001b[38;5;250m    \u001b[39m\u001b[38;5;124;03m\"\"\"Return the Python representation of ``s`` (a ``str`` instance\u001b[39;00m\n\u001b[0;32m    334\u001b[0m \u001b[38;5;124;03m    containing a JSON document).\u001b[39;00m\n\u001b[0;32m    335\u001b[0m \n\u001b[0;32m    336\u001b[0m \u001b[38;5;124;03m    \"\"\"\u001b[39;00m\n\u001b[1;32m--> 337\u001b[0m     obj, end \u001b[38;5;241m=\u001b[39m \u001b[38;5;28mself\u001b[39m\u001b[38;5;241m.\u001b[39mraw_decode(s, idx\u001b[38;5;241m=\u001b[39m_w(s, \u001b[38;5;241m0\u001b[39m)\u001b[38;5;241m.\u001b[39mend())\n\u001b[0;32m    338\u001b[0m     end \u001b[38;5;241m=\u001b[39m _w(s, end)\u001b[38;5;241m.\u001b[39mend()\n\u001b[0;32m    339\u001b[0m     \u001b[38;5;28;01mif\u001b[39;00m end \u001b[38;5;241m!=\u001b[39m \u001b[38;5;28mlen\u001b[39m(s):\n",
      "File \u001b[1;32m~\\anaconda3\\Lib\\json\\decoder.py:355\u001b[0m, in \u001b[0;36mJSONDecoder.raw_decode\u001b[1;34m(self, s, idx)\u001b[0m\n\u001b[0;32m    353\u001b[0m     obj, end \u001b[38;5;241m=\u001b[39m \u001b[38;5;28mself\u001b[39m\u001b[38;5;241m.\u001b[39mscan_once(s, idx)\n\u001b[0;32m    354\u001b[0m \u001b[38;5;28;01mexcept\u001b[39;00m \u001b[38;5;167;01mStopIteration\u001b[39;00m \u001b[38;5;28;01mas\u001b[39;00m err:\n\u001b[1;32m--> 355\u001b[0m     \u001b[38;5;28;01mraise\u001b[39;00m JSONDecodeError(\u001b[38;5;124m\"\u001b[39m\u001b[38;5;124mExpecting value\u001b[39m\u001b[38;5;124m\"\u001b[39m, s, err\u001b[38;5;241m.\u001b[39mvalue) \u001b[38;5;28;01mfrom\u001b[39;00m \u001b[38;5;28;01mNone\u001b[39;00m\n\u001b[0;32m    356\u001b[0m \u001b[38;5;28;01mreturn\u001b[39;00m obj, end\n",
      "\u001b[1;31mJSONDecodeError\u001b[0m: Expecting value: line 1 column 1 (char 0)"
     ]
    }
   ],
   "source": [
    "add_new_word()"
   ]
  },
  {
   "cell_type": "code",
   "execution_count": null,
   "id": "023ea5b4",
   "metadata": {},
   "outputs": [],
   "source": [
    "import json\n",
    "import os\n"
   ]
  },
  {
   "cell_type": "code",
   "execution_count": 2,
   "id": "b375ce89",
   "metadata": {},
   "outputs": [
    {
     "name": "stdout",
     "output_type": "stream",
     "text": [
      "[]\n"
     ]
    }
   ],
   "source": [
    "f=open(\"words.txt\",'r')\n",
    "line=f.readlines()\n",
    "print(line)"
   ]
  },
  {
   "cell_type": "markdown",
   "id": "7fb63f35",
   "metadata": {},
   "source": [
    "# 1A: English Dictionary App:"
   ]
  },
  {
   "cell_type": "code",
   "execution_count": 4,
   "id": "85ab73cb",
   "metadata": {},
   "outputs": [
    {
     "name": "stdout",
     "output_type": "stream",
     "text": [
      "1:Add a new word\n",
      "2:Find the meaning\n",
      "3:Update a word\n",
      "4:Exit\n",
      "Enter the Choice:\n"
     ]
    },
    {
     "ename": "ValueError",
     "evalue": "invalid literal for int() with base 10: ''",
     "output_type": "error",
     "traceback": [
      "\u001b[1;31m---------------------------------------------------------------------------\u001b[0m",
      "\u001b[1;31mValueError\u001b[0m                                Traceback (most recent call last)",
      "Cell \u001b[1;32mIn[4], line 5\u001b[0m\n\u001b[0;32m      3\u001b[0m \u001b[38;5;28;01mwhile\u001b[39;00m \u001b[38;5;28;01mTrue\u001b[39;00m:\n\u001b[0;32m      4\u001b[0m     \u001b[38;5;28mprint\u001b[39m(\u001b[38;5;124m\"\u001b[39m\u001b[38;5;124m1:Add a new word\u001b[39m\u001b[38;5;130;01m\\n\u001b[39;00m\u001b[38;5;124m2:Find the meaning\u001b[39m\u001b[38;5;130;01m\\n\u001b[39;00m\u001b[38;5;124m3:Update a word\u001b[39m\u001b[38;5;130;01m\\n\u001b[39;00m\u001b[38;5;124m4:Exit\u001b[39m\u001b[38;5;124m\"\u001b[39m)\n\u001b[1;32m----> 5\u001b[0m     choice\u001b[38;5;241m=\u001b[39m\u001b[38;5;28mint\u001b[39m(\u001b[38;5;28minput\u001b[39m(\u001b[38;5;124m\"\u001b[39m\u001b[38;5;124mEnter the Choice:\u001b[39m\u001b[38;5;124m\"\u001b[39m))\n\u001b[0;32m      6\u001b[0m     \u001b[38;5;28;01mif\u001b[39;00m choice\u001b[38;5;241m==\u001b[39m\u001b[38;5;241m1\u001b[39m:\n\u001b[0;32m      7\u001b[0m         add_new_word()\n",
      "\u001b[1;31mValueError\u001b[0m: invalid literal for int() with base 10: ''"
     ]
    }
   ],
   "source": [
    "import json\n",
    "import os\n",
    "while True:\n",
    "    print(\"1:Add a new word\\n2:Find the meaning\\n3:Update a word\\n4:Exit\")\n",
    "    choice=int(input(\"Enter the Choice:\"))\n",
    "    if choice==1:\n",
    "        add_new_word()\n",
    "    elif choice==2:\n",
    "        find_meaning_of_word()\n",
    "    elif choice==3:\n",
    "        update_the_word()\n",
    "    elif choice==4:\n",
    "        print(\"Dicitionary app get exiting\")\n",
    "        print(\"Thank you for using the Dicitionary app\")\n",
    "        exit()\n",
    "    else:\n",
    "        print(\"Invalid Input?\")\n",
    "        main_menu()"
   ]
  },
  {
   "cell_type": "code",
   "execution_count": 7,
   "id": "f9e89358",
   "metadata": {},
   "outputs": [],
   "source": [
    "import json\n",
    "import os"
   ]
  },
  {
   "cell_type": "code",
   "execution_count": 15,
   "id": "3fc5ece1",
   "metadata": {},
   "outputs": [],
   "source": [
    "def add_new_word():\n",
    "    f=open('words.txt','r+')\n",
    "    words= json.load(f)\n",
    "    word = input('Enter word: ')\n",
    "    meaning = input('Enter meaning : ')\n",
    "    words[word]=meaning\n",
    "    f.seek(0)\n",
    "    json.dump(words,f)"
   ]
  },
  {
   "cell_type": "code",
   "execution_count": 16,
   "id": "885f8df8",
   "metadata": {},
   "outputs": [],
   "source": [
    "def find_meaning_of_word():\n",
    "    f=open('words.txt','r+')\n",
    "    words=json.load(f)\n",
    "    word_find= input('Enter word to find: ')\n",
    "    if word in words:\n",
    "        print(\"Enter the y to display the word meaning\")\n",
    "        decide=input(\"enter the y to display the meaning of a word\")\n",
    "        if decide==\"y\":\n",
    "            return words.get(word_find)     \n",
    "    else:\n",
    "        return \"Word  is  not found in the  English Dicitionary App\"\n",
    "    f.seek(0)\n",
    "    json.dump(words,f)"
   ]
  },
  {
   "cell_type": "code",
   "execution_count": 17,
   "id": "7c8f5fdc",
   "metadata": {},
   "outputs": [],
   "source": [
    "def update_the_word():\n",
    "    f=open('words.txt','r+')\n",
    "    words = json.load(f)\n",
    "    word = input('Enter word: ')\n",
    "    word = input('Enter word to find: ')\n",
    "    if word in words:\n",
    "        meaning = input('Enter meaning : ')\n",
    "        words[word]=meaning\n",
    "        f.seek(0)\n",
    "        json.dump(words,f)\n",
    "    else:\n",
    "        return \"Word not found in the dicitionary\""
   ]
  },
  {
   "cell_type": "code",
   "execution_count": 18,
   "id": "ffa3a79f",
   "metadata": {},
   "outputs": [],
   "source": [
    "def exit():\n",
    "    import os\n",
    "    sys.exit()"
   ]
  },
  {
   "cell_type": "code",
   "execution_count": 19,
   "id": "8057f81b",
   "metadata": {},
   "outputs": [],
   "source": [
    "\n",
    "def main_menu():\n",
    "    print(\"1:Add a new word\\n2:Find the meaning\\n3:Update a word\\n4:Exit\")\n",
    "    choice=int(input(\"Enter the Choice:\"))\n",
    "    if choice==1:\n",
    "        add_new_word()\n",
    "    elif choice==2:\n",
    "        find_meaning_of_word()\n",
    "    elif choice==3:\n",
    "        update_the_word()\n",
    "    elif choice==4:\n",
    "        print(\"Dicitionary app get exiting\")\n",
    "        print(\"Thank you for using the Dicitionary app\")\n",
    "        exit()\n",
    "    else:\n",
    "        print(\"Invalid Input?\")\n",
    "        main_menu()"
   ]
  },
  {
   "cell_type": "code",
   "execution_count": 20,
   "id": "3845ae2d",
   "metadata": {},
   "outputs": [
    {
     "name": "stdout",
     "output_type": "stream",
     "text": [
      "1:Add a new word\n",
      "2:Find the meaning\n",
      "3:Update a word\n",
      "4:Exit\n",
      "Enter the Choice:1\n"
     ]
    },
    {
     "ename": "JSONDecodeError",
     "evalue": "Expecting value: line 1 column 1 (char 0)",
     "output_type": "error",
     "traceback": [
      "\u001b[1;31m---------------------------------------------------------------------------\u001b[0m",
      "\u001b[1;31mJSONDecodeError\u001b[0m                           Traceback (most recent call last)",
      "Cell \u001b[1;32mIn[20], line 2\u001b[0m\n\u001b[0;32m      1\u001b[0m \u001b[38;5;28;01mwhile\u001b[39;00m \u001b[38;5;28;01mTrue\u001b[39;00m:\n\u001b[1;32m----> 2\u001b[0m     main_menu()\n",
      "Cell \u001b[1;32mIn[19], line 5\u001b[0m, in \u001b[0;36mmain_menu\u001b[1;34m()\u001b[0m\n\u001b[0;32m      3\u001b[0m choice\u001b[38;5;241m=\u001b[39m\u001b[38;5;28mint\u001b[39m(\u001b[38;5;28minput\u001b[39m(\u001b[38;5;124m\"\u001b[39m\u001b[38;5;124mEnter the Choice:\u001b[39m\u001b[38;5;124m\"\u001b[39m))\n\u001b[0;32m      4\u001b[0m \u001b[38;5;28;01mif\u001b[39;00m choice\u001b[38;5;241m==\u001b[39m\u001b[38;5;241m1\u001b[39m:\n\u001b[1;32m----> 5\u001b[0m     add_new_word()\n\u001b[0;32m      6\u001b[0m \u001b[38;5;28;01melif\u001b[39;00m choice\u001b[38;5;241m==\u001b[39m\u001b[38;5;241m2\u001b[39m:\n\u001b[0;32m      7\u001b[0m     find_meaning_of_word()\n",
      "Cell \u001b[1;32mIn[15], line 3\u001b[0m, in \u001b[0;36madd_new_word\u001b[1;34m()\u001b[0m\n\u001b[0;32m      1\u001b[0m \u001b[38;5;28;01mdef\u001b[39;00m \u001b[38;5;21madd_new_word\u001b[39m():\n\u001b[0;32m      2\u001b[0m     f\u001b[38;5;241m=\u001b[39m\u001b[38;5;28mopen\u001b[39m(\u001b[38;5;124m'\u001b[39m\u001b[38;5;124mwords.txt\u001b[39m\u001b[38;5;124m'\u001b[39m,\u001b[38;5;124m'\u001b[39m\u001b[38;5;124mr+\u001b[39m\u001b[38;5;124m'\u001b[39m)\n\u001b[1;32m----> 3\u001b[0m     words\u001b[38;5;241m=\u001b[39m json\u001b[38;5;241m.\u001b[39mload(f)\n\u001b[0;32m      4\u001b[0m     word \u001b[38;5;241m=\u001b[39m \u001b[38;5;28minput\u001b[39m(\u001b[38;5;124m'\u001b[39m\u001b[38;5;124mEnter word: \u001b[39m\u001b[38;5;124m'\u001b[39m)\n\u001b[0;32m      5\u001b[0m     meaning \u001b[38;5;241m=\u001b[39m \u001b[38;5;28minput\u001b[39m(\u001b[38;5;124m'\u001b[39m\u001b[38;5;124mEnter meaning : \u001b[39m\u001b[38;5;124m'\u001b[39m)\n",
      "File \u001b[1;32m~\\anaconda3\\Lib\\json\\__init__.py:293\u001b[0m, in \u001b[0;36mload\u001b[1;34m(fp, cls, object_hook, parse_float, parse_int, parse_constant, object_pairs_hook, **kw)\u001b[0m\n\u001b[0;32m    274\u001b[0m \u001b[38;5;28;01mdef\u001b[39;00m \u001b[38;5;21mload\u001b[39m(fp, \u001b[38;5;241m*\u001b[39m, \u001b[38;5;28mcls\u001b[39m\u001b[38;5;241m=\u001b[39m\u001b[38;5;28;01mNone\u001b[39;00m, object_hook\u001b[38;5;241m=\u001b[39m\u001b[38;5;28;01mNone\u001b[39;00m, parse_float\u001b[38;5;241m=\u001b[39m\u001b[38;5;28;01mNone\u001b[39;00m,\n\u001b[0;32m    275\u001b[0m         parse_int\u001b[38;5;241m=\u001b[39m\u001b[38;5;28;01mNone\u001b[39;00m, parse_constant\u001b[38;5;241m=\u001b[39m\u001b[38;5;28;01mNone\u001b[39;00m, object_pairs_hook\u001b[38;5;241m=\u001b[39m\u001b[38;5;28;01mNone\u001b[39;00m, \u001b[38;5;241m*\u001b[39m\u001b[38;5;241m*\u001b[39mkw):\n\u001b[0;32m    276\u001b[0m \u001b[38;5;250m    \u001b[39m\u001b[38;5;124;03m\"\"\"Deserialize ``fp`` (a ``.read()``-supporting file-like object containing\u001b[39;00m\n\u001b[0;32m    277\u001b[0m \u001b[38;5;124;03m    a JSON document) to a Python object.\u001b[39;00m\n\u001b[0;32m    278\u001b[0m \n\u001b[1;32m   (...)\u001b[0m\n\u001b[0;32m    291\u001b[0m \u001b[38;5;124;03m    kwarg; otherwise ``JSONDecoder`` is used.\u001b[39;00m\n\u001b[0;32m    292\u001b[0m \u001b[38;5;124;03m    \"\"\"\u001b[39;00m\n\u001b[1;32m--> 293\u001b[0m     \u001b[38;5;28;01mreturn\u001b[39;00m loads(fp\u001b[38;5;241m.\u001b[39mread(),\n\u001b[0;32m    294\u001b[0m         \u001b[38;5;28mcls\u001b[39m\u001b[38;5;241m=\u001b[39m\u001b[38;5;28mcls\u001b[39m, object_hook\u001b[38;5;241m=\u001b[39mobject_hook,\n\u001b[0;32m    295\u001b[0m         parse_float\u001b[38;5;241m=\u001b[39mparse_float, parse_int\u001b[38;5;241m=\u001b[39mparse_int,\n\u001b[0;32m    296\u001b[0m         parse_constant\u001b[38;5;241m=\u001b[39mparse_constant, object_pairs_hook\u001b[38;5;241m=\u001b[39mobject_pairs_hook, \u001b[38;5;241m*\u001b[39m\u001b[38;5;241m*\u001b[39mkw)\n",
      "File \u001b[1;32m~\\anaconda3\\Lib\\json\\__init__.py:346\u001b[0m, in \u001b[0;36mloads\u001b[1;34m(s, cls, object_hook, parse_float, parse_int, parse_constant, object_pairs_hook, **kw)\u001b[0m\n\u001b[0;32m    341\u001b[0m     s \u001b[38;5;241m=\u001b[39m s\u001b[38;5;241m.\u001b[39mdecode(detect_encoding(s), \u001b[38;5;124m'\u001b[39m\u001b[38;5;124msurrogatepass\u001b[39m\u001b[38;5;124m'\u001b[39m)\n\u001b[0;32m    343\u001b[0m \u001b[38;5;28;01mif\u001b[39;00m (\u001b[38;5;28mcls\u001b[39m \u001b[38;5;129;01mis\u001b[39;00m \u001b[38;5;28;01mNone\u001b[39;00m \u001b[38;5;129;01mand\u001b[39;00m object_hook \u001b[38;5;129;01mis\u001b[39;00m \u001b[38;5;28;01mNone\u001b[39;00m \u001b[38;5;129;01mand\u001b[39;00m\n\u001b[0;32m    344\u001b[0m         parse_int \u001b[38;5;129;01mis\u001b[39;00m \u001b[38;5;28;01mNone\u001b[39;00m \u001b[38;5;129;01mand\u001b[39;00m parse_float \u001b[38;5;129;01mis\u001b[39;00m \u001b[38;5;28;01mNone\u001b[39;00m \u001b[38;5;129;01mand\u001b[39;00m\n\u001b[0;32m    345\u001b[0m         parse_constant \u001b[38;5;129;01mis\u001b[39;00m \u001b[38;5;28;01mNone\u001b[39;00m \u001b[38;5;129;01mand\u001b[39;00m object_pairs_hook \u001b[38;5;129;01mis\u001b[39;00m \u001b[38;5;28;01mNone\u001b[39;00m \u001b[38;5;129;01mand\u001b[39;00m \u001b[38;5;129;01mnot\u001b[39;00m kw):\n\u001b[1;32m--> 346\u001b[0m     \u001b[38;5;28;01mreturn\u001b[39;00m _default_decoder\u001b[38;5;241m.\u001b[39mdecode(s)\n\u001b[0;32m    347\u001b[0m \u001b[38;5;28;01mif\u001b[39;00m \u001b[38;5;28mcls\u001b[39m \u001b[38;5;129;01mis\u001b[39;00m \u001b[38;5;28;01mNone\u001b[39;00m:\n\u001b[0;32m    348\u001b[0m     \u001b[38;5;28mcls\u001b[39m \u001b[38;5;241m=\u001b[39m JSONDecoder\n",
      "File \u001b[1;32m~\\anaconda3\\Lib\\json\\decoder.py:337\u001b[0m, in \u001b[0;36mJSONDecoder.decode\u001b[1;34m(self, s, _w)\u001b[0m\n\u001b[0;32m    332\u001b[0m \u001b[38;5;28;01mdef\u001b[39;00m \u001b[38;5;21mdecode\u001b[39m(\u001b[38;5;28mself\u001b[39m, s, _w\u001b[38;5;241m=\u001b[39mWHITESPACE\u001b[38;5;241m.\u001b[39mmatch):\n\u001b[0;32m    333\u001b[0m \u001b[38;5;250m    \u001b[39m\u001b[38;5;124;03m\"\"\"Return the Python representation of ``s`` (a ``str`` instance\u001b[39;00m\n\u001b[0;32m    334\u001b[0m \u001b[38;5;124;03m    containing a JSON document).\u001b[39;00m\n\u001b[0;32m    335\u001b[0m \n\u001b[0;32m    336\u001b[0m \u001b[38;5;124;03m    \"\"\"\u001b[39;00m\n\u001b[1;32m--> 337\u001b[0m     obj, end \u001b[38;5;241m=\u001b[39m \u001b[38;5;28mself\u001b[39m\u001b[38;5;241m.\u001b[39mraw_decode(s, idx\u001b[38;5;241m=\u001b[39m_w(s, \u001b[38;5;241m0\u001b[39m)\u001b[38;5;241m.\u001b[39mend())\n\u001b[0;32m    338\u001b[0m     end \u001b[38;5;241m=\u001b[39m _w(s, end)\u001b[38;5;241m.\u001b[39mend()\n\u001b[0;32m    339\u001b[0m     \u001b[38;5;28;01mif\u001b[39;00m end \u001b[38;5;241m!=\u001b[39m \u001b[38;5;28mlen\u001b[39m(s):\n",
      "File \u001b[1;32m~\\anaconda3\\Lib\\json\\decoder.py:355\u001b[0m, in \u001b[0;36mJSONDecoder.raw_decode\u001b[1;34m(self, s, idx)\u001b[0m\n\u001b[0;32m    353\u001b[0m     obj, end \u001b[38;5;241m=\u001b[39m \u001b[38;5;28mself\u001b[39m\u001b[38;5;241m.\u001b[39mscan_once(s, idx)\n\u001b[0;32m    354\u001b[0m \u001b[38;5;28;01mexcept\u001b[39;00m \u001b[38;5;167;01mStopIteration\u001b[39;00m \u001b[38;5;28;01mas\u001b[39;00m err:\n\u001b[1;32m--> 355\u001b[0m     \u001b[38;5;28;01mraise\u001b[39;00m JSONDecodeError(\u001b[38;5;124m\"\u001b[39m\u001b[38;5;124mExpecting value\u001b[39m\u001b[38;5;124m\"\u001b[39m, s, err\u001b[38;5;241m.\u001b[39mvalue) \u001b[38;5;28;01mfrom\u001b[39;00m \u001b[38;5;28;01mNone\u001b[39;00m\n\u001b[0;32m    356\u001b[0m \u001b[38;5;28;01mreturn\u001b[39;00m obj, end\n",
      "\u001b[1;31mJSONDecodeError\u001b[0m: Expecting value: line 1 column 1 (char 0)"
     ]
    }
   ],
   "source": [
    "while True:\n",
    "    main_menu()"
   ]
  },
  {
   "cell_type": "code",
   "execution_count": 25,
   "id": "f75b28e8",
   "metadata": {},
   "outputs": [],
   "source": [
    "import json\n",
    "from difflib import get_close_matches\n",
    "import sys"
   ]
  },
  {
   "cell_type": "code",
   "execution_count": 26,
   "id": "6014e54b",
   "metadata": {},
   "outputs": [],
   "source": [
    "# i have created add function to add new words to the extisting file\n",
    "def Add():\n",
    "    f = open('words.txt','r+') # it opens the file in read and write mode\n",
    "    words = json.load(f) # it converts the text file to  python dictioanry format\n",
    "    word = input('Enter word: ') # asks the word to add\n",
    "    mean = input('Enter meaning : ')\n",
    "    words = {}# asks the meaning of the word\n",
    "    words[word]=mean # it updates in dictionary\n",
    "    f.seek(0) # the positon of the curson to add word\n",
    "    json.dump(words,f,indent = 4) # it re-converts the python dictionary to text file\n",
    "    f.truncate()"
   ]
  },
  {
   "cell_type": "code",
   "execution_count": 27,
   "id": "dc7ee81a",
   "metadata": {},
   "outputs": [],
   "source": [
    "# here i created a fucntion to find the meaning of the word\n",
    "def Meaning():\n",
    "    words = json.load(open(\"words.txt\",\"r\"))\n",
    "    word = input('Enter word to search : ')\n",
    "    word = word.lower() # it converts the entered word to lowercase and searches\n",
    "    if word in words: \n",
    "        print(words[word],'\\n') # if the word found then it returns the word\n",
    "    elif word.title() in words: # it converts the entered word to title case because some words in file are Titles\n",
    "        print(words[word.title()],'\\n')\n",
    "    elif word.upper() in words: # it converts the entered word to upper case as some acronyms are use uppercase letters\n",
    "        print(words[word.upper()],'\\n')\n",
    "\n",
    "    # the following command checks similar words of entered word. it asks the user whether the similar word and entered\n",
    "    # word both are same or not. if yes then it prints first word of those list of similar words\n",
    "    elif len(get_close_matches(word , words.keys())) > 0 :\n",
    "        print(\"did you mean %s instead\\n\" %get_close_matches(word, words.keys())[0])\n",
    "        decide = input(\"press y for yes or n for no : \")\n",
    "        if decide == \"y\":\n",
    "            print(words[get_close_matches(word , words.keys())[0]])\n",
    "        elif decide == \"n\":\n",
    "            print(\"Word Not Found \\n\")\n",
    "        else: # if user enter other than y and n then it throws an error\n",
    "            print(\"You have entered wrong input please enter just y or n :\")\n",
    "    else:\n",
    "        print(\"Word Not Found \\n\")\n"
   ]
  },
  {
   "cell_type": "code",
   "execution_count": 28,
   "id": "45332703",
   "metadata": {},
   "outputs": [],
   "source": [
    "# the following function is for updating an existing word in the text file.        \n",
    "def Update():\n",
    "    f = open(\"words.txt\",'r+')\n",
    "    words = json.load(f)\n",
    "    word = input('Enter the word to update: ')\n",
    "    if word in words: # if the word found in the file then it updates the word. otherwise skips\n",
    "        meaning = input('Enter the meaning to update : ')\n",
    "        words[word] = meaning\n",
    "        f.seek(0)\n",
    "    else :\n",
    "        print(\"The word not exist in the data file \\n\")\n",
    "    json.dump(words,f,indent=4)\n",
    "    f.truncate()"
   ]
  },
  {
   "cell_type": "code",
   "execution_count": 29,
   "id": "60f3ac86",
   "metadata": {},
   "outputs": [],
   "source": [
    "def Exit(): # this function terminates the program and restarts the kernel\n",
    "    print('Exiting the program.....\\n')\n",
    "    sys.exit()"
   ]
  },
  {
   "cell_type": "code",
   "execution_count": null,
   "id": "db1f7096",
   "metadata": {},
   "outputs": [],
   "source": [
    "#the following function displays main menu with four options. user should select one option among four.\n",
    "\n",
    "def Menu():\n",
    "    print('Main Menu \\n1.Add a new word\\n2.Find the meaning\\n3.Update a word\\n4.Exit')\n",
    "    \n",
    "    while True: # here i used while loop to iterate the selection if the user enters invalid choice. its keep on asking the \n",
    "                # choice until user selects the correct option.\n",
    "        choice = input('Select your option : ')\n",
    "        if choice == '1':\n",
    "            return  Add()\n",
    "        elif choice == '2':\n",
    "            return Meaning()\n",
    "        elif choice == '3':\n",
    "            return Update()\n",
    "        elif choice == '4':\n",
    "            return Exit()\n",
    "            exit()\n",
    "        else:\n",
    "            print('You have selected invalid choice. Please select a valid key')\n",
    "            "
   ]
  },
  {
   "cell_type": "code",
   "execution_count": 3,
   "id": "68e73ab5",
   "metadata": {},
   "outputs": [
    {
     "name": "stdout",
     "output_type": "stream",
     "text": [
      "Main Menu \n",
      "1.Add a new word\n",
      "2.Find the meaning\n",
      "3.Update a word\n",
      "4.Exit\n",
      "Select your option : 1\n"
     ]
    },
    {
     "ename": "NameError",
     "evalue": "name 'Add' is not defined",
     "output_type": "error",
     "traceback": [
      "\u001b[1;31m---------------------------------------------------------------------------\u001b[0m",
      "\u001b[1;31mNameError\u001b[0m                                 Traceback (most recent call last)",
      "Cell \u001b[1;32mIn[3], line 3\u001b[0m\n\u001b[0;32m      1\u001b[0m \u001b[38;5;66;03m# Calling the main Menu function.         \u001b[39;00m\n\u001b[0;32m      2\u001b[0m \u001b[38;5;28;01mwhile\u001b[39;00m \u001b[38;5;28;01mTrue\u001b[39;00m:\n\u001b[1;32m----> 3\u001b[0m     Menu()\n",
      "Cell \u001b[1;32mIn[2], line 9\u001b[0m, in \u001b[0;36mMenu\u001b[1;34m()\u001b[0m\n\u001b[0;32m      7\u001b[0m choice \u001b[38;5;241m=\u001b[39m \u001b[38;5;28minput\u001b[39m(\u001b[38;5;124m'\u001b[39m\u001b[38;5;124mSelect your option : \u001b[39m\u001b[38;5;124m'\u001b[39m)\n\u001b[0;32m      8\u001b[0m \u001b[38;5;28;01mif\u001b[39;00m choice \u001b[38;5;241m==\u001b[39m \u001b[38;5;124m'\u001b[39m\u001b[38;5;124m1\u001b[39m\u001b[38;5;124m'\u001b[39m:\n\u001b[1;32m----> 9\u001b[0m     \u001b[38;5;28;01mreturn\u001b[39;00m  Add()\n\u001b[0;32m     10\u001b[0m \u001b[38;5;28;01melif\u001b[39;00m choice \u001b[38;5;241m==\u001b[39m \u001b[38;5;124m'\u001b[39m\u001b[38;5;124m2\u001b[39m\u001b[38;5;124m'\u001b[39m:\n\u001b[0;32m     11\u001b[0m     \u001b[38;5;28;01mreturn\u001b[39;00m Meaning()\n",
      "\u001b[1;31mNameError\u001b[0m: name 'Add' is not defined"
     ]
    }
   ],
   "source": [
    "# Calling the main Menu function.         \n",
    "while True:\n",
    "    Menu()"
   ]
  },
  {
   "cell_type": "code",
   "execution_count": 2,
   "id": "f7b7d7a7",
   "metadata": {},
   "outputs": [],
   "source": [
    "import json\n",
    "def Menu():\n",
    "    print('Main Menu \\n1.Add a new word\\n2.Find the meaning\\n3.Update a word\\n4.Exit')\n",
    "    \n",
    "    while True: # here i used while loop to iterate the selection if the user enters invalid choice. its keep on asking the \n",
    "                # choice until user selects the correct option.\n",
    "        choice = input('Select your option : ')\n",
    "        if choice == '1':\n",
    "            return  Add()\n",
    "        elif choice == '2':\n",
    "            return Meaning()\n",
    "        elif choice == '3':\n",
    "            return Update()\n",
    "        elif choice == '4':\n",
    "            return Exit()\n",
    "        else:\n",
    "            print('You have selected invalid choice. Please select a valid key')\n",
    "def menu():\n",
    "    print('Welcome to the Dictionary App')\n",
    "    print('Please select your choice')\n",
    "    print('1. Add a word')\n",
    "    print('2. Find the meaning')\n",
    "    print('3. Update the word')\n",
    "    print('4. Exit')\n",
    "    f = open('words.txt','w')\n",
    "    coll_words = {}\n",
    "    json.dump(coll_words,f)\n",
    "    choice = int(input('Select your option : '))\n",
    "    if choice == 1:\n",
    "        return  Add()\n",
    "    elif choice == 2:\n",
    "        return Meaning()\n",
    "    elif choice == 3:\n",
    "        return Update()\n",
    "    elif choice == 4:\n",
    "        return Exit()\n",
    "    else:\n",
    "        print('You have selected invalid choice. Please select a valid key')\n",
    "    f.close()"
   ]
  },
  {
   "cell_type": "code",
   "execution_count": 7,
   "id": "2a2c2d16",
   "metadata": {},
   "outputs": [
    {
     "name": "stdout",
     "output_type": "stream",
     "text": [
      "Welcome to the Dictionary App\n",
      "Please select your choice\n",
      "1. Add a word\n",
      "2. Find the meaning\n",
      "3. Update the word\n",
      "4. Exit\n",
      "Enter the Choice:1\n",
      "Enter a word : Apple\n",
      "Enter its meaning : A fruit\n",
      "Enter the Choice:2\n",
      "Enter the word to find: Apple\n",
      "The meaning is A fruit\n",
      "Enter the Choice:3\n",
      "Enter the word:Apple\n",
      "Enter the updated meaning: Winter season fruit\n",
      "Enter the Choice:4\n",
      "Thank you for choosing Dictionary app\n"
     ]
    }
   ],
   "source": [
    "import json\n",
    "print('Welcome to the Dictionary App')\n",
    "print('Please select your choice')\n",
    "print('1. Add a word')\n",
    "print('2. Find the meaning')\n",
    "print('3. Update the word')\n",
    "print('4. Exit')\n",
    "f = open('words.txt','w')\n",
    "coll_words = {}\n",
    "json.dump(coll_words,f)\n",
    "f.close()\n",
    "while True:\n",
    "    n = int(input('Enter the Choice:'))\n",
    "    if n == 1:\n",
    "        import json\n",
    "        f = open('words.txt','w')\n",
    "        word = input('Enter a word : ')\n",
    "        meaning = input('Enter its meaning : ')\n",
    "        coll_words[word] = meaning\n",
    "        json.dump(coll_words,f)\n",
    "        f.close()\n",
    "    elif n == 2:\n",
    "        import json\n",
    "        f = open('words.txt','r+')\n",
    "        dic = json.load(f)\n",
    "        find = input('Enter the word to find: ')\n",
    "        if find in coll_words:\n",
    "            print('The meaning is',coll_words.get(find))\n",
    "        else:\n",
    "            print('Sorry the word is not found')\n",
    "        json.dump(coll_words,f)\n",
    "        f.close()\n",
    "    elif n == 3:\n",
    "        import json\n",
    "        f = open('words.txt','w')\n",
    "        word1 = input('Enter the word:')\n",
    "        update_meaning = input('Enter the updated meaning: ')\n",
    "        coll_words[word1] = update_meaning\n",
    "        json.dump(coll_words,f)\n",
    "        f.close()\n",
    "    elif n == 4:\n",
    "        print('Thank you for choosing Dictionary app')\n",
    "        break\n",
    "    else:\n",
    "        print('Please enter the mentioned choice')\n",
    "        print('1. Add a word')\n",
    "        print('2. Find the meaning')\n",
    "        print('3. Update the word')\n",
    "        print('4. Exit')"
   ]
  },
  {
   "cell_type": "code",
   "execution_count": null,
   "id": "df961a98",
   "metadata": {},
   "outputs": [],
   "source": [
    "import json\n",
    "import os\n",
    "words={}"
   ]
  },
  {
   "cell_type": "code",
   "execution_count": null,
   "id": "8d28f07b",
   "metadata": {},
   "outputs": [],
   "source": [
    "def add_new_word():\n",
    "    word=input(\"Enter a Word:\")\n",
    "    meaning=input(f\"Enter a Meanning of a {word}:\")\n",
    "    file=open(\"words.txt\",'w')\n",
    "    words[word]=meaning\n",
    "    file.seek(0)\n",
    "    json.dump(words,file)\n",
    "    file.close()"
   ]
  },
  {
   "cell_type": "code",
   "execution_count": null,
   "id": "e4f0028c",
   "metadata": {},
   "outputs": [],
   "source": [
    "def find_meaning_of_word():\n",
    "    file=open('words.txt','r+')\n",
    "    words=json.load(file)\n",
    "    word_find= input('Enter a word to find the meaning in dicitionary: ')\n",
    "    if word_find in words:\n",
    "        \n",
    "        print(\"Enter the y to display the word meaning\")\n",
    "        decide=input(f\"enter the y->yes or n->no to display the meaning of a {word_find}:\")\n",
    "        if decide==\"y\":\n",
    "            print(f\"{word_find}:{words[word_find]}\")\n",
    "    else:\n",
    "        return \"Word  is  not found in the  English Dicitionary App\"\n",
    "    file.seek(0)"
   ]
  },
  {
   "cell_type": "code",
   "execution_count": null,
   "id": "97add54a",
   "metadata": {},
   "outputs": [],
   "source": [
    "def update_the_word():\n",
    "    file=open('words.txt','r+')\n",
    "    word_find= input('Enter word to find: ')\n",
    "    if word_find in words:\n",
    "        print(f\"{word_find} is present in English Dicitionary App\")\n",
    "        print(\"please add the word meaning newly to English Dicitionary App\")\n",
    "        meaning = input(f'Enter meaning for the {word_find} : ')\n",
    "        words.update({word_find:meaning})\n",
    "#         words[word_find]=meaning\n",
    "        file.seek(0)\n",
    "        file.truncate(0)\n",
    "        json.dump(words,file)\n",
    "    else:\n",
    "        print(f\"{word_find} is not present in English Dicitionary App\")\n",
    "        print(\"please add the word and meaning newly to English Dicitionary App\")\n",
    "        meaning = input(f'Enter meaning for the {word_find} : ')\n",
    "        words[word_find]=meaning\n",
    "        file.seek(0)\n",
    "        file.truncate(0)\n",
    "        json.dump(words,file)"
   ]
  },
  {
   "cell_type": "code",
   "execution_count": null,
   "id": "e85b56e0",
   "metadata": {},
   "outputs": [],
   "source": [
    "def exit():\n",
    "    print(\"You are now exit from the Dicitionary App!\")\n",
    "    print(\"Thank you for Using the English Dicitionary App!!!!\")\n",
    "    return \"Thank you,Bye!!!\""
   ]
  },
  {
   "cell_type": "code",
   "execution_count": null,
   "id": "0302a8c5",
   "metadata": {},
   "outputs": [],
   "source": [
    "def main_menu():\n",
    "    while True:\n",
    "        print(\"1:Add a new word\\n2:Find the meaning\\n3:Update a word\\n4:Exit\")\n",
    "        choice=int(input(\"Enter the Choice:\"))\n",
    "        if choice==1:\n",
    "            add_new_word()\n",
    "        elif choice==2:\n",
    "            find_meaning_of_word()\n",
    "        elif choice==3:\n",
    "            update_the_word()\n",
    "        elif choice==4:\n",
    "            print(\"Dicitionary app get exiting\")\n",
    "            print(\"Thank you for using the Dicitionary app\")\n",
    "            exit()\n",
    "            break\n",
    "        else:\n",
    "            print(\"Invalid Input?\")"
   ]
  },
  {
   "cell_type": "code",
   "execution_count": null,
   "id": "ec01f046",
   "metadata": {},
   "outputs": [],
   "source": [
    "main_menu()"
   ]
  },
  {
   "cell_type": "code",
   "execution_count": null,
   "id": "023cc309",
   "metadata": {},
   "outputs": [],
   "source": [
    "import json\n",
    "#creating the  python dicitionary\n",
    "words={}\n",
    "def add_new_word():\n",
    "    word=input(\"Enter a Word:\")\n",
    "    meaning=input(f\"Enter a Meanning of a {word}:\")\n",
    "    file=open(\"words.txt\",'w')\n",
    "    words[word]=meaning\n",
    "    file.seek(0)\n",
    "    json.dump(words,file)\n",
    "    file.close()\n",
    "\n",
    "def find_meaning_of_word():\n",
    "    file=open('words.txt','r+')\n",
    "    words=json.load(file)\n",
    "    word_find= input('Enter a word to find the meaning in dicitionary: ')\n",
    "    if word_find in words:\n",
    "        \n",
    "        print(\"Enter the y to display the word meaning\")\n",
    "        decide=input(f\"enter the y->yes or n->no to display the meaning of a {word_find}:\")\n",
    "        if decide==\"y\":\n",
    "            print(f\"{word_find}:{words[word_find]}\")\n",
    "    else:\n",
    "        return \"Word  is  not found in the  English Dicitionary App\"\n",
    "    file.seek(0)\n",
    "    file.close()\n",
    "    \n",
    "def update_the_word():\n",
    "    file=open('words.txt','r+')\n",
    "    word_find= input('Enter word to find: ')\n",
    "    if word_find in words:\n",
    "        print(f\"{word_find} is present in English Dicitionary App\")\n",
    "        print(\"please add the word updated meaning to English Dicitionary App\")\n",
    "        meaning = input(f'Enter meaning for the {word_find} : ')\n",
    "        words.update({word_find:meaning})\n",
    "#         words[word_find]=meaning\n",
    "    else:\n",
    "        print(f\"{word_find} is not present in English Dicitionary App\")\n",
    "        print(\"please add the word and meaning newly to English Dicitionary App\")\n",
    "        meaning = input(f'Enter meaning for the {word_find} : ')\n",
    "        words[word_find]=meaning\n",
    "    file.seek(0)\n",
    "    file.truncate(0)\n",
    "    json.dump(words,file)\n",
    "    file.close()\n",
    "\n",
    "    \n",
    "def exit():\n",
    "    print(\"You are now exit from the Dicitionary App!\")\n",
    "    print(\"Thank you for Using the English Dicitionary App!!!!\")\n",
    "    print(\"Thank you,Bye!!!\")\n",
    "\n",
    "def main_menu():\n",
    "    while True:\n",
    "        print(\"1:Add a new word\\n2:Find the meaning\\n3:Update a word\\n4:Exit\")\n",
    "        choice=int(input(\"Enter the Choice:\"))\n",
    "        if choice==1:\n",
    "            add_new_word()\n",
    "        elif choice==2:\n",
    "            find_meaning_of_word()\n",
    "        elif choice==3:\n",
    "            update_the_word()\n",
    "        elif choice==4:\n",
    "            print(\"Dicitionary app get exiting\")\n",
    "            print(\"Thank you for using the Dicitionary app\")\n",
    "            exit()\n",
    "            break\n",
    "        else:\n",
    "            print(\"Invalid Input?\")\n",
    "            print(\"please! enter the Invalid Input Choice???\")\n",
    "\n",
    "            \n",
    "main_menu()"
   ]
  },
  {
   "cell_type": "code",
   "execution_count": null,
   "id": "da088746",
   "metadata": {},
   "outputs": [],
   "source": []
  },
  {
   "cell_type": "code",
   "execution_count": null,
   "id": "ab18c43d",
   "metadata": {},
   "outputs": [],
   "source": []
  },
  {
   "cell_type": "code",
   "execution_count": null,
   "id": "09545753",
   "metadata": {},
   "outputs": [],
   "source": []
  },
  {
   "cell_type": "code",
   "execution_count": null,
   "id": "8b4eb9a1",
   "metadata": {},
   "outputs": [],
   "source": []
  },
  {
   "cell_type": "code",
   "execution_count": null,
   "id": "0f1a75cb",
   "metadata": {},
   "outputs": [],
   "source": []
  },
  {
   "cell_type": "raw",
   "id": "03158c41",
   "metadata": {},
   "source": [
    "1B: Library Book Management System\n",
    "\n",
    "In this project, a Library Book Management System will be implemented with the front end GUI developed using Tkinter and the backend database implemented in SQLite. It is a single window tkinter GUI application which will implement CRUD( create, read, update, delete) operations on a ‘books’ database, in SQLite. The window will contain text widgets to accept / display book title, author, year of publication, ISBN (optional) and a large text area/ list box to display the records which match the search criteria."
   ]
  },
  {
   "cell_type": "code",
   "execution_count": null,
   "id": "d714701c",
   "metadata": {},
   "outputs": [],
   "source": [
    "rsmakode98@gmail.com"
   ]
  }
 ],
 "metadata": {
  "kernelspec": {
   "display_name": "Python 3 (ipykernel)",
   "language": "python",
   "name": "python3"
  },
  "language_info": {
   "codemirror_mode": {
    "name": "ipython",
    "version": 3
   },
   "file_extension": ".py",
   "mimetype": "text/x-python",
   "name": "python",
   "nbconvert_exporter": "python",
   "pygments_lexer": "ipython3",
   "version": "3.11.5"
  }
 },
 "nbformat": 4,
 "nbformat_minor": 5
}
